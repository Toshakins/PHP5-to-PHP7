{
 "cells": [
  {
   "cell_type": "markdown",
   "metadata": {
    "pycharm": {
     "name": "#%% md\n"
    }
   },
   "source": [
    "Some data was collected prior writing this report. For example,\n",
    "`./data/sites_published` has the output `aws s3 ls` for the `publisherstore-us`\n",
    "bucket that contains archives of the published websites. In addition,\n",
    "`./data/sites_to_copy.csv` contains site ids that needs to be republished. At\n",
    "the moment, SQL query for them looks like that:\n",
    "\n",
    "```sql\n",
    "select distinct sps.id\n",
    "from sites_publishedsite sps\n",
    "\t\t join (select *\n",
    "\t\t\t   from sites_sitereplicant outer_\n",
    "\t\t\t   where not exists(select 1\n",
    "\t\t\t\t\t\t\t\tfrom sites_sitereplicant inner_\n",
    "\t\t\t\t\t\t\t\twhere inner_.id = outer_.id\n",
    "\t\t\t\t\t\t\t\t  and inner_.store_id in %s)) ssr\n",
    "\t\t\t  on ssr.published_site_id = sps.id\n",
    "\t\twhere sps.disabled = 0\n",
    "\t\t\tand sps.state = 0\n",
    "\t\t\tand date_published >= DATE '2018-08-01'\n",
    "```\n",
    "\n",
    "Let's prepare our data. We will select ZIP files from the bucket."
   ]
  },
  {
   "cell_type": "code",
   "execution_count": 182,
   "metadata": {
    "pycharm": {
     "name": "#%%\n"
    }
   },
   "outputs": [
    {
     "name": "stdout",
     "output_type": "stream",
     "text": [
      " 773MiB 0:00:22 [34.9MiB/s] [================================>] 100%            \r\n"
     ]
    }
   ],
   "source": [
    "!pv ./data/sites_published | grep .zip | \\\n",
    "\tawk '{gsub(\".zip$\", \"\", $4);print $4}' > \\\n",
    "\t./data/transformed/sites_published_zips.csv"
   ]
  },
  {
   "cell_type": "markdown",
   "metadata": {
    "pycharm": {
     "name": "#%% md\n"
    }
   },
   "source": [
    "Here is how look ids of the sites that we need to copy"
   ]
  },
  {
   "cell_type": "code",
   "execution_count": 157,
   "metadata": {
    "collapsed": true
   },
   "outputs": [
    {
     "data": {
      "text/html": [
       "<div>\n",
       "<style scoped>\n",
       "    .dataframe tbody tr th:only-of-type {\n",
       "        vertical-align: middle;\n",
       "    }\n",
       "\n",
       "    .dataframe tbody tr th {\n",
       "        vertical-align: top;\n",
       "    }\n",
       "\n",
       "    .dataframe thead th {\n",
       "        text-align: right;\n",
       "    }\n",
       "</style>\n",
       "<table border=\"1\" class=\"dataframe\">\n",
       "  <thead>\n",
       "    <tr style=\"text-align: right;\">\n",
       "      <th></th>\n",
       "      <th>site_to_copy_ids</th>\n",
       "    </tr>\n",
       "  </thead>\n",
       "  <tbody>\n",
       "    <tr>\n",
       "      <th>0</th>\n",
       "      <td>0000201ae82e4b1293c860235894200f</td>\n",
       "    </tr>\n",
       "    <tr>\n",
       "      <th>1</th>\n",
       "      <td>00003b1c0f064827bdc7e0397139dc93</td>\n",
       "    </tr>\n",
       "    <tr>\n",
       "      <th>2</th>\n",
       "      <td>000047159c254c06848660d03a72f038</td>\n",
       "    </tr>\n",
       "    <tr>\n",
       "      <th>3</th>\n",
       "      <td>00008a6f271548ff9a6274620c7bd6cc</td>\n",
       "    </tr>\n",
       "    <tr>\n",
       "      <th>4</th>\n",
       "      <td>0000a6c1778a44d1a0687266a94f00a9</td>\n",
       "    </tr>\n",
       "  </tbody>\n",
       "</table>\n",
       "</div>"
      ],
      "text/plain": [
       "                   site_to_copy_ids\n",
       "0  0000201ae82e4b1293c860235894200f\n",
       "1  00003b1c0f064827bdc7e0397139dc93\n",
       "2  000047159c254c06848660d03a72f038\n",
       "3  00008a6f271548ff9a6274620c7bd6cc\n",
       "4  0000a6c1778a44d1a0687266a94f00a9"
      ]
     },
     "execution_count": 157,
     "metadata": {},
     "output_type": "execute_result"
    }
   ],
   "source": [
    "import pandas as pd\n",
    "sites_to_copy = pd.read_csv(\n",
    "\t'./data/sites_to_copy.csv', names=['site_to_copy_ids'])\n",
    "sites_to_copy.head()"
   ]
  },
  {
   "cell_type": "markdown",
   "metadata": {
    "pycharm": {
     "name": "#%% md\n"
    }
   },
   "source": [
    "There are plenty of them:"
   ]
  },
  {
   "cell_type": "code",
   "execution_count": 158,
   "metadata": {
    "pycharm": {
     "name": "#%%\n"
    }
   },
   "outputs": [
    {
     "data": {
      "text/plain": [
       "site_to_copy_ids    359165\n",
       "dtype: int64"
      ]
     },
     "execution_count": 158,
     "metadata": {},
     "output_type": "execute_result"
    }
   ],
   "source": [
    "sites_to_copy.count()"
   ]
  },
  {
   "cell_type": "markdown",
   "metadata": {
    "pycharm": {
     "name": "#%% md\n"
    }
   },
   "source": [
    "Here is how look ids of the artifacts in the S3"
   ]
  },
  {
   "cell_type": "code",
   "execution_count": 159,
   "metadata": {
    "pycharm": {
     "name": "#%%\n"
    }
   },
   "outputs": [
    {
     "data": {
      "text/html": [
       "<div>\n",
       "<style scoped>\n",
       "    .dataframe tbody tr th:only-of-type {\n",
       "        vertical-align: middle;\n",
       "    }\n",
       "\n",
       "    .dataframe tbody tr th {\n",
       "        vertical-align: top;\n",
       "    }\n",
       "\n",
       "    .dataframe thead th {\n",
       "        text-align: right;\n",
       "    }\n",
       "</style>\n",
       "<table border=\"1\" class=\"dataframe\">\n",
       "  <thead>\n",
       "    <tr style=\"text-align: right;\">\n",
       "      <th></th>\n",
       "      <th>site_published_zips</th>\n",
       "    </tr>\n",
       "  </thead>\n",
       "  <tbody>\n",
       "    <tr>\n",
       "      <th>0</th>\n",
       "      <td>00001f94c5c54973b5539aca547f48cf</td>\n",
       "    </tr>\n",
       "    <tr>\n",
       "      <th>1</th>\n",
       "      <td>0000201ae82e4b1293c860235894200f</td>\n",
       "    </tr>\n",
       "    <tr>\n",
       "      <th>2</th>\n",
       "      <td>0000237a29ef4155a731cac18e3425a5</td>\n",
       "    </tr>\n",
       "    <tr>\n",
       "      <th>3</th>\n",
       "      <td>0000252074964f219d47ea136ffef019</td>\n",
       "    </tr>\n",
       "    <tr>\n",
       "      <th>4</th>\n",
       "      <td>00002f6e7c274081873af579c80e3a25</td>\n",
       "    </tr>\n",
       "  </tbody>\n",
       "</table>\n",
       "</div>"
      ],
      "text/plain": [
       "                site_published_zips\n",
       "0  00001f94c5c54973b5539aca547f48cf\n",
       "1  0000201ae82e4b1293c860235894200f\n",
       "2  0000237a29ef4155a731cac18e3425a5\n",
       "3  0000252074964f219d47ea136ffef019\n",
       "4  00002f6e7c274081873af579c80e3a25"
      ]
     },
     "execution_count": 159,
     "metadata": {},
     "output_type": "execute_result"
    }
   ],
   "source": [
    "sites_published_zips = pd.read_csv(\n",
    "\t'./data/transformed/sites_published_zips.csv',\n",
    "\tnames=['site_published_zips'])\n",
    "sites_published_zips.head()"
   ]
  },
  {
   "cell_type": "markdown",
   "metadata": {
    "pycharm": {
     "name": "#%% md\n"
    }
   },
   "source": [
    "Is there any site without an archive?"
   ]
  },
  {
   "cell_type": "code",
   "execution_count": 160,
   "metadata": {
    "pycharm": {
     "name": "#%%\n"
    }
   },
   "outputs": [
    {
     "name": "stdout",
     "output_type": "stream",
     "text": [
      "True\n"
     ]
    }
   ],
   "source": [
    "diff = set(sites_to_copy['site_to_copy_ids'].values.tolist()).difference(\n",
    "\tset(sites_published_zips['site_published_zips'].values.tolist()))\n",
    "\n",
    "\n",
    "print(bool(diff))"
   ]
  },
  {
   "cell_type": "markdown",
   "metadata": {},
   "source": [
    "Really? Give an example please."
   ]
  },
  {
   "cell_type": "code",
   "execution_count": 181,
   "metadata": {
    "pycharm": {
     "name": "#%%\n"
    }
   },
   "outputs": [
    {
     "data": {
      "text/plain": [
       "['c1cfd45b9a08494f9cfe5123954e7a52',\n",
       " 'e01d91d9d61b4d70a8a73c86aab47ff7',\n",
       " '4489c8217559412d970e2293ff869dd3',\n",
       " '672e4249f6b44d469c961becf98438b8',\n",
       " '223c1cb926594fe08aced914153a6c71',\n",
       " '44ba64233b204ed6a9221aa3413cebe1',\n",
       " '09c6459508ca49419692a032a8683722',\n",
       " 'ed331420cdf1486f92d74768e1fd81bf',\n",
       " '615bfba479704c659a7f42a5b6856663',\n",
       " 'f716eb3de23d4c1cafd17466679b8142']"
      ]
     },
     "execution_count": 181,
     "metadata": {},
     "output_type": "execute_result"
    }
   ],
   "source": [
    "import random\n",
    "random.sample(diff, 10)"
   ]
  },
  {
   "cell_type": "markdown",
   "metadata": {
    "pycharm": {
     "name": "#%% md\n"
    }
   },
   "source": [
    "How many?"
   ]
  },
  {
   "cell_type": "code",
   "execution_count": 162,
   "metadata": {
    "pycharm": {
     "name": "#%%\n"
    }
   },
   "outputs": [
    {
     "name": "stdout",
     "output_type": "stream",
     "text": [
      "Total: 10673\n"
     ]
    }
   ],
   "source": [
    "print('Total: %s' % len(diff))"
   ]
  },
  {
   "cell_type": "markdown",
   "metadata": {
    "pycharm": {
     "name": "#%% md\n"
    }
   },
   "source": [
    "Ok, let's prepare our data, but this time we will include object\n",
    " creation date."
   ]
  },
  {
   "cell_type": "code",
   "execution_count": 163,
   "metadata": {
    "pycharm": {
     "name": "#%%\n"
    }
   },
   "outputs": [
    {
     "name": "stdout",
     "output_type": "stream",
     "text": [
      " 773MiB 0:00:26 [29.1MiB/s] [================================>] 100%            \r\n"
     ]
    }
   ],
   "source": [
    "!pv ./data/sites_published | grep .zip | \\\n",
    "\tawk '{gsub(\".zip$\", \"\" ,$4); print $4 \",\" $1 \"T\" $2 \"Z\"}' > \\\n",
    "\t./data/transformed/sites_published_zips_with_dates.csv"
   ]
  },
  {
   "cell_type": "markdown",
   "metadata": {
    "pycharm": {
     "name": "#%% md\n"
    }
   },
   "source": [
    "Archives and their creation dates(a-la CSV)."
   ]
  },
  {
   "cell_type": "code",
   "execution_count": 164,
   "metadata": {
    "pycharm": {
     "name": "#%%\n"
    }
   },
   "outputs": [
    {
     "name": "stdout",
     "output_type": "stream",
     "text": [
      "00001f94c5c54973b5539aca547f48cf,2016-03-09T19:07:12Z\r\n",
      "0000201ae82e4b1293c860235894200f,2020-10-05T06:02:05Z\r\n",
      "0000237a29ef4155a731cac18e3425a5,2017-11-07T05:16:45Z\r\n",
      "0000252074964f219d47ea136ffef019,2016-06-23T07:29:33Z\r\n",
      "00002f6e7c274081873af579c80e3a25,2015-11-05T21:27:35Z\r\n"
     ]
    }
   ],
   "source": [
    "!head -n 5 ./data/transformed/sites_published_zips_with_dates.csv"
   ]
  },
  {
   "cell_type": "markdown",
   "metadata": {
    "pycharm": {
     "name": "#%% md\n"
    }
   },
   "source": [
    "Sites and their publishing dates(CSV)."
   ]
  },
  {
   "cell_type": "code",
   "execution_count": 165,
   "metadata": {
    "pycharm": {
     "name": "#%%\n"
    }
   },
   "outputs": [
    {
     "name": "stdout",
     "output_type": "stream",
     "text": [
      "0000201ae82e4b1293c860235894200f,2020-10-05T06:02:04Z\r\n",
      "00003b1c0f064827bdc7e0397139dc93,2019-05-26T06:45:48Z\r\n",
      "000047159c254c06848660d03a72f038,2020-02-14T17:07:26Z\r\n",
      "00008a6f271548ff9a6274620c7bd6cc,2020-05-14T21:40:34Z\r\n",
      "0000a6c1778a44d1a0687266a94f00a9,2019-01-23T17:21:25Z\r\n"
     ]
    }
   ],
   "source": [
    "!head -n 5 ./data/sites_to_copy_with_dates.csv"
   ]
  },
  {
   "cell_type": "code",
   "execution_count": 166,
   "metadata": {
    "pycharm": {
     "name": "#%%\n"
    }
   },
   "outputs": [],
   "source": [
    "sites_to_copy_with_dates = pd.read_csv(\n",
    "\t'./data/sites_to_copy_with_dates.csv',\n",
    "\tnames=['site_to_copy_ids', 'site_published_date'],\n",
    "\tparse_dates=['site_published_date']\n",
    ").set_index('site_to_copy_ids')"
   ]
  },
  {
   "cell_type": "code",
   "execution_count": 167,
   "metadata": {
    "pycharm": {
     "name": "#%%\n"
    }
   },
   "outputs": [],
   "source": [
    "sites_published_zips_with_dates = pd.read_csv(\n",
    "\t'./data/transformed/sites_published_zips_with_dates.csv',\n",
    "\tnames=['site_published_zips_ids', 's3_object_published_date'],\n",
    "\tparse_dates=['s3_object_published_date']\n",
    ").set_index('site_published_zips_ids')"
   ]
  },
  {
   "cell_type": "markdown",
   "metadata": {
    "pycharm": {
     "name": "#%% md\n"
    }
   },
   "source": [
    "We can join sites and archives on id"
   ]
  },
  {
   "cell_type": "code",
   "execution_count": 168,
   "metadata": {
    "pycharm": {
     "name": "#%%\n"
    }
   },
   "outputs": [
    {
     "data": {
      "text/html": [
       "<div>\n",
       "<style scoped>\n",
       "    .dataframe tbody tr th:only-of-type {\n",
       "        vertical-align: middle;\n",
       "    }\n",
       "\n",
       "    .dataframe tbody tr th {\n",
       "        vertical-align: top;\n",
       "    }\n",
       "\n",
       "    .dataframe thead th {\n",
       "        text-align: right;\n",
       "    }\n",
       "</style>\n",
       "<table border=\"1\" class=\"dataframe\">\n",
       "  <thead>\n",
       "    <tr style=\"text-align: right;\">\n",
       "      <th></th>\n",
       "      <th>site_published_date</th>\n",
       "      <th>s3_object_published_date</th>\n",
       "    </tr>\n",
       "    <tr>\n",
       "      <th>site_to_copy_ids</th>\n",
       "      <th></th>\n",
       "      <th></th>\n",
       "    </tr>\n",
       "  </thead>\n",
       "  <tbody>\n",
       "    <tr>\n",
       "      <th>0000201ae82e4b1293c860235894200f</th>\n",
       "      <td>2020-10-05 06:02:04+00:00</td>\n",
       "      <td>2020-10-05 06:02:05+00:00</td>\n",
       "    </tr>\n",
       "    <tr>\n",
       "      <th>00003b1c0f064827bdc7e0397139dc93</th>\n",
       "      <td>2019-05-26 06:45:48+00:00</td>\n",
       "      <td>2019-05-26 06:45:49+00:00</td>\n",
       "    </tr>\n",
       "    <tr>\n",
       "      <th>000047159c254c06848660d03a72f038</th>\n",
       "      <td>2020-02-14 17:07:26+00:00</td>\n",
       "      <td>2020-02-14 17:07:26+00:00</td>\n",
       "    </tr>\n",
       "    <tr>\n",
       "      <th>00008a6f271548ff9a6274620c7bd6cc</th>\n",
       "      <td>2020-05-14 21:40:34+00:00</td>\n",
       "      <td>2020-05-14 21:40:35+00:00</td>\n",
       "    </tr>\n",
       "    <tr>\n",
       "      <th>0000a6c1778a44d1a0687266a94f00a9</th>\n",
       "      <td>2019-01-23 17:21:25+00:00</td>\n",
       "      <td>2019-01-23 17:21:25+00:00</td>\n",
       "    </tr>\n",
       "  </tbody>\n",
       "</table>\n",
       "</div>"
      ],
      "text/plain": [
       "                                       site_published_date  \\\n",
       "site_to_copy_ids                                             \n",
       "0000201ae82e4b1293c860235894200f 2020-10-05 06:02:04+00:00   \n",
       "00003b1c0f064827bdc7e0397139dc93 2019-05-26 06:45:48+00:00   \n",
       "000047159c254c06848660d03a72f038 2020-02-14 17:07:26+00:00   \n",
       "00008a6f271548ff9a6274620c7bd6cc 2020-05-14 21:40:34+00:00   \n",
       "0000a6c1778a44d1a0687266a94f00a9 2019-01-23 17:21:25+00:00   \n",
       "\n",
       "                                  s3_object_published_date  \n",
       "site_to_copy_ids                                            \n",
       "0000201ae82e4b1293c860235894200f 2020-10-05 06:02:05+00:00  \n",
       "00003b1c0f064827bdc7e0397139dc93 2019-05-26 06:45:49+00:00  \n",
       "000047159c254c06848660d03a72f038 2020-02-14 17:07:26+00:00  \n",
       "00008a6f271548ff9a6274620c7bd6cc 2020-05-14 21:40:35+00:00  \n",
       "0000a6c1778a44d1a0687266a94f00a9 2019-01-23 17:21:25+00:00  "
      ]
     },
     "execution_count": 168,
     "metadata": {},
     "output_type": "execute_result"
    }
   ],
   "source": [
    "dates_joined = sites_to_copy_with_dates.join(\n",
    "\tsites_published_zips_with_dates, lsuffix='l_', rsuffix='r_')\n",
    "dates_joined.head()"
   ]
  },
  {
   "cell_type": "markdown",
   "metadata": {},
   "source": [
    "Let's calculate the timedelta between two publishing dates."
   ]
  },
  {
   "cell_type": "code",
   "execution_count": 169,
   "metadata": {
    "pycharm": {
     "name": "#%%\n"
    }
   },
   "outputs": [],
   "source": [
    "dates_joined['timedelta'] = (dates_joined['s3_object_published_date']\n",
    "\t- dates_joined['site_published_date'])"
   ]
  },
  {
   "cell_type": "code",
   "execution_count": 170,
   "metadata": {
    "pycharm": {
     "name": "#%%\n"
    }
   },
   "outputs": [
    {
     "data": {
      "text/html": [
       "<div>\n",
       "<style scoped>\n",
       "    .dataframe tbody tr th:only-of-type {\n",
       "        vertical-align: middle;\n",
       "    }\n",
       "\n",
       "    .dataframe tbody tr th {\n",
       "        vertical-align: top;\n",
       "    }\n",
       "\n",
       "    .dataframe thead th {\n",
       "        text-align: right;\n",
       "    }\n",
       "</style>\n",
       "<table border=\"1\" class=\"dataframe\">\n",
       "  <thead>\n",
       "    <tr style=\"text-align: right;\">\n",
       "      <th></th>\n",
       "      <th>site_published_date</th>\n",
       "      <th>s3_object_published_date</th>\n",
       "      <th>timedelta</th>\n",
       "    </tr>\n",
       "    <tr>\n",
       "      <th>site_to_copy_ids</th>\n",
       "      <th></th>\n",
       "      <th></th>\n",
       "      <th></th>\n",
       "    </tr>\n",
       "  </thead>\n",
       "  <tbody>\n",
       "    <tr>\n",
       "      <th>8a49866b2966498601298fd5da6f26c9</th>\n",
       "      <td>2020-11-18 13:55:26+00:00</td>\n",
       "      <td>2010-09-04 21:18:15+00:00</td>\n",
       "      <td>-3728 days +07:22:49</td>\n",
       "    </tr>\n",
       "    <tr>\n",
       "      <th>8a49866b2a910c98012a96734c144cbe</th>\n",
       "      <td>2020-11-18 13:55:48+00:00</td>\n",
       "      <td>2010-09-09 17:10:09+00:00</td>\n",
       "      <td>-3723 days +03:14:21</td>\n",
       "    </tr>\n",
       "    <tr>\n",
       "      <th>8a49866a2af939b8012afaf34d3a118c</th>\n",
       "      <td>2020-11-18 13:43:41+00:00</td>\n",
       "      <td>2010-09-10 10:01:53+00:00</td>\n",
       "      <td>-3723 days +20:18:12</td>\n",
       "    </tr>\n",
       "    <tr>\n",
       "      <th>8a49866a2afe125c012b094dfba27d42</th>\n",
       "      <td>2020-11-11 12:41:20+00:00</td>\n",
       "      <td>2010-09-13 05:19:18+00:00</td>\n",
       "      <td>-3713 days +16:37:58</td>\n",
       "    </tr>\n",
       "    <tr>\n",
       "      <th>8a4986cb2b8aa1a7012b9b38f7121aa7</th>\n",
       "      <td>2020-11-18 13:56:03+00:00</td>\n",
       "      <td>2010-10-11 12:17:31+00:00</td>\n",
       "      <td>-3692 days +22:21:28</td>\n",
       "    </tr>\n",
       "    <tr>\n",
       "      <th>...</th>\n",
       "      <td>...</td>\n",
       "      <td>...</td>\n",
       "      <td>...</td>\n",
       "    </tr>\n",
       "    <tr>\n",
       "      <th>ffefac401f764344be62136a24762b2b</th>\n",
       "      <td>2019-03-21 17:56:01+00:00</td>\n",
       "      <td>NaT</td>\n",
       "      <td>NaT</td>\n",
       "    </tr>\n",
       "    <tr>\n",
       "      <th>fff25cfce17b4ef1944e9a5ffa7c158f</th>\n",
       "      <td>2019-03-25 20:49:20+00:00</td>\n",
       "      <td>NaT</td>\n",
       "      <td>NaT</td>\n",
       "    </tr>\n",
       "    <tr>\n",
       "      <th>fff2f61e5b9e4306a7d078ad2f4982b6</th>\n",
       "      <td>2020-11-09 11:15:17+00:00</td>\n",
       "      <td>NaT</td>\n",
       "      <td>NaT</td>\n",
       "    </tr>\n",
       "    <tr>\n",
       "      <th>fffe31541ac74ec9b69a25a11d56e813</th>\n",
       "      <td>2019-03-26 17:01:59+00:00</td>\n",
       "      <td>NaT</td>\n",
       "      <td>NaT</td>\n",
       "    </tr>\n",
       "    <tr>\n",
       "      <th>fffe6d7976fc4d50a737b794682d41c7</th>\n",
       "      <td>2019-03-13 10:45:45+00:00</td>\n",
       "      <td>NaT</td>\n",
       "      <td>NaT</td>\n",
       "    </tr>\n",
       "  </tbody>\n",
       "</table>\n",
       "<p>359167 rows × 3 columns</p>\n",
       "</div>"
      ],
      "text/plain": [
       "                                       site_published_date  \\\n",
       "site_to_copy_ids                                             \n",
       "8a49866b2966498601298fd5da6f26c9 2020-11-18 13:55:26+00:00   \n",
       "8a49866b2a910c98012a96734c144cbe 2020-11-18 13:55:48+00:00   \n",
       "8a49866a2af939b8012afaf34d3a118c 2020-11-18 13:43:41+00:00   \n",
       "8a49866a2afe125c012b094dfba27d42 2020-11-11 12:41:20+00:00   \n",
       "8a4986cb2b8aa1a7012b9b38f7121aa7 2020-11-18 13:56:03+00:00   \n",
       "...                                                    ...   \n",
       "ffefac401f764344be62136a24762b2b 2019-03-21 17:56:01+00:00   \n",
       "fff25cfce17b4ef1944e9a5ffa7c158f 2019-03-25 20:49:20+00:00   \n",
       "fff2f61e5b9e4306a7d078ad2f4982b6 2020-11-09 11:15:17+00:00   \n",
       "fffe31541ac74ec9b69a25a11d56e813 2019-03-26 17:01:59+00:00   \n",
       "fffe6d7976fc4d50a737b794682d41c7 2019-03-13 10:45:45+00:00   \n",
       "\n",
       "                                  s3_object_published_date  \\\n",
       "site_to_copy_ids                                             \n",
       "8a49866b2966498601298fd5da6f26c9 2010-09-04 21:18:15+00:00   \n",
       "8a49866b2a910c98012a96734c144cbe 2010-09-09 17:10:09+00:00   \n",
       "8a49866a2af939b8012afaf34d3a118c 2010-09-10 10:01:53+00:00   \n",
       "8a49866a2afe125c012b094dfba27d42 2010-09-13 05:19:18+00:00   \n",
       "8a4986cb2b8aa1a7012b9b38f7121aa7 2010-10-11 12:17:31+00:00   \n",
       "...                                                    ...   \n",
       "ffefac401f764344be62136a24762b2b                       NaT   \n",
       "fff25cfce17b4ef1944e9a5ffa7c158f                       NaT   \n",
       "fff2f61e5b9e4306a7d078ad2f4982b6                       NaT   \n",
       "fffe31541ac74ec9b69a25a11d56e813                       NaT   \n",
       "fffe6d7976fc4d50a737b794682d41c7                       NaT   \n",
       "\n",
       "                                            timedelta  \n",
       "site_to_copy_ids                                       \n",
       "8a49866b2966498601298fd5da6f26c9 -3728 days +07:22:49  \n",
       "8a49866b2a910c98012a96734c144cbe -3723 days +03:14:21  \n",
       "8a49866a2af939b8012afaf34d3a118c -3723 days +20:18:12  \n",
       "8a49866a2afe125c012b094dfba27d42 -3713 days +16:37:58  \n",
       "8a4986cb2b8aa1a7012b9b38f7121aa7 -3692 days +22:21:28  \n",
       "...                                               ...  \n",
       "ffefac401f764344be62136a24762b2b                  NaT  \n",
       "fff25cfce17b4ef1944e9a5ffa7c158f                  NaT  \n",
       "fff2f61e5b9e4306a7d078ad2f4982b6                  NaT  \n",
       "fffe31541ac74ec9b69a25a11d56e813                  NaT  \n",
       "fffe6d7976fc4d50a737b794682d41c7                  NaT  \n",
       "\n",
       "[359167 rows x 3 columns]"
      ]
     },
     "execution_count": 170,
     "metadata": {},
     "output_type": "execute_result"
    }
   ],
   "source": [
    "dates_joined.sort_values('timedelta')"
   ]
  },
  {
   "cell_type": "code",
   "execution_count": 171,
   "metadata": {
    "pycharm": {
     "name": "#%%\n"
    }
   },
   "outputs": [],
   "source": [
    "no_na = dates_joined.sort_values('timedelta').dropna()\n",
    "short_discrepancy = no_na[(no_na['timedelta'] > pd.Timedelta(days=1))\n",
    "\t  | (no_na['timedelta'] < pd.Timedelta(days=-1))]"
   ]
  },
  {
   "cell_type": "markdown",
   "metadata": {
    "pycharm": {
     "name": "#%% md\n"
    }
   },
   "source": [
    "How many sites have publishing date discrepancy with their S3 object?\n",
    "Also, exclude sites that miss archive completely."
   ]
  },
  {
   "cell_type": "code",
   "execution_count": 172,
   "metadata": {
    "pycharm": {
     "name": "#%%\n"
    }
   },
   "outputs": [
    {
     "data": {
      "text/plain": [
       "site_published_date         7065\n",
       "s3_object_published_date    7065\n",
       "timedelta                   7065\n",
       "dtype: int64"
      ]
     },
     "execution_count": 172,
     "metadata": {},
     "output_type": "execute_result"
    }
   ],
   "source": [
    "short_discrepancy.count()"
   ]
  },
  {
   "cell_type": "code",
   "execution_count": 173,
   "metadata": {
    "pycharm": {
     "name": "#%%\n"
    }
   },
   "outputs": [],
   "source": [
    "import matplotlib.pyplot as plt\n",
    "%matplotlib inline"
   ]
  },
  {
   "cell_type": "code",
   "execution_count": 174,
   "metadata": {
    "pycharm": {
     "name": "#%%\n"
    }
   },
   "outputs": [],
   "source": [
    "discrepancy_dates = short_discrepancy.apply(\n",
    "\tlambda row: row.site_published_date.date(), axis='columns')"
   ]
  },
  {
   "cell_type": "code",
   "execution_count": 175,
   "metadata": {
    "pycharm": {
     "name": "#%%\n"
    }
   },
   "outputs": [],
   "source": [
    "discrepancy_dates.value_counts()\n",
    "pass"
   ]
  },
  {
   "cell_type": "markdown",
   "source": [
    "Show please when happened discrepancies between site publish data and S3 object\n",
    " creation timestamp."
   ],
   "metadata": {
    "collapsed": false,
    "pycharm": {
     "name": "#%% md\n"
    }
   }
  },
  {
   "cell_type": "code",
   "execution_count": 176,
   "metadata": {
    "pycharm": {
     "name": "#%%\n"
    }
   },
   "outputs": [
    {
     "data": {
      "text/plain": [
       "<AxesSubplot:xlabel='Date', ylabel='Discrepancy Publish Count'>"
      ]
     },
     "execution_count": 176,
     "metadata": {},
     "output_type": "execute_result"
    },
    {
     "data": {
      "image/png": "[encoded data removed]",
      "text/plain": [
       "<Figure size 1440x720 with 1 Axes>"
      ]
     },
     "metadata": {
      "needs_background": "light"
     },
     "output_type": "display_data"
    }
   ],
   "source": [
    "plt.figure(figsize=(20, 10))\n",
    "plt.xlabel('Date', **{'fontsize': 'xx-large'})\n",
    "plt.ylabel('Discrepancy Publish Count', **{'fontsize': 'xx-large'})\n",
    "discrepancy_dates.value_counts().plot()"
   ]
  },
  {
   "cell_type": "markdown",
   "metadata": {
    "pycharm": {
     "name": "#%% md\n"
    }
   },
   "source": [
    "Now let's find more info about the absent artifacts. Show please the count of\n",
    " site with absent artifacts per site publishing date."
   ]
  },
  {
   "cell_type": "code",
   "execution_count": 177,
   "metadata": {
    "pycharm": {
     "name": "#%%\n"
    }
   },
   "outputs": [],
   "source": [
    "absent_values = dates_joined[\n",
    "\tdates_joined['s3_object_published_date'].isna()\n",
    "\t& (dates_joined['site_published_date'] < pd.Timestamp(\n",
    "\t\t'2020-11-01T00:00Z'))]\n",
    "absent_dates = absent_values.apply(\n",
    "\tlambda row: row.site_published_date.date(), axis='columns'\n",
    ")\n",
    "absent_dates.value_counts()\n",
    "pass"
   ]
  },
  {
   "cell_type": "code",
   "execution_count": 185,
   "metadata": {
    "pycharm": {
     "name": "#%%\n"
    }
   },
   "outputs": [
    {
     "data": {
      "text/plain": [
       "<AxesSubplot:xlabel='Date', ylabel='Count of absent artifacts'>"
      ]
     },
     "execution_count": 185,
     "metadata": {},
     "output_type": "execute_result"
    },
    {
     "data": {
      "image/png": "[encoded data removed]",
      "text/plain": [
       "<Figure size 1440x720 with 1 Axes>"
      ]
     },
     "metadata": {
      "needs_background": "light"
     },
     "output_type": "display_data"
    }
   ],
   "source": [
    "plt.figure(figsize=(20, 10))\n",
    "plt.xlabel('Date', **{'fontsize': 'xx-large'})\n",
    "plt.ylabel('Count of absent artifacts', **{'fontsize': 'xx-large'})\n",
    "absent_dates.value_counts().plot()"
   ]
  },
  {
   "cell_type": "markdown",
   "metadata": {
    "pycharm": {
     "name": "#%% md\n"
    }
   },
   "source": [
    "The same plot, but Y-axis log scale, please?"
   ]
  },
  {
   "cell_type": "code",
   "execution_count": 188,
   "metadata": {
    "pycharm": {
     "name": "#%%\n"
    }
   },
   "outputs": [
    {
     "data": {
      "text/plain": [
       "<AxesSubplot:xlabel='Date', ylabel='Count of absent artifacts, log scale'>"
      ]
     },
     "execution_count": 188,
     "metadata": {},
     "output_type": "execute_result"
    },
    {
     "data": {
      "image/png": "[encoded data removed]",
      "text/plain": [
       "<Figure size 1440x720 with 1 Axes>"
      ]
     },
     "metadata": {
      "needs_background": "light"
     },
     "output_type": "display_data"
    }
   ],
   "source": [
    "plt.figure(figsize=(20, 10))\n",
    "plt.yscale('log')\n",
    "plt.xlabel('Date', **{'fontsize': 'xx-large'})\n",
    "plt.ylabel('Count of absent artifacts, log scale', **{'fontsize': 'xx-large'})\n",
    "absent_dates.value_counts().plot()"
   ]
  },
  {
   "cell_type": "markdown",
   "metadata": {
    "pycharm": {
     "name": "#%% md\n"
    }
   },
   "source": [
    "By the way, how many artifacts are absent before we started the work\n",
    " on this ticket?"
   ]
  },
  {
   "cell_type": "code",
   "execution_count": 179,
   "metadata": {
    "pycharm": {
     "name": "#%%\n"
    }
   },
   "outputs": [
    {
     "data": {
      "text/plain": [
       "site_published_date         10485\n",
       "s3_object_published_date        0\n",
       "timedelta                       0\n",
       "dtype: int64"
      ]
     },
     "execution_count": 179,
     "metadata": {},
     "output_type": "execute_result"
    }
   ],
   "source": [
    "absent_values.count()\n"
   ]
  },
  {
   "cell_type": "code",
   "execution_count": null,
   "outputs": [],
   "source": [],
   "metadata": {
    "collapsed": false,
    "pycharm": {
     "name": "#%%\n"
    }
   }
  },
  {
   "cell_type": "code",
   "execution_count": null,
   "outputs": [],
   "source": [],
   "metadata": {
    "collapsed": false,
    "pycharm": {
     "name": "#%%\n"
    }
   }
  },
  {
   "cell_type": "code",
   "execution_count": null,
   "metadata": {},
   "outputs": [],
   "source": []
  }
 ],
 "metadata": {
  "kernelspec": {
   "display_name": "Python 3",
   "language": "python",
   "name": "python3"
  },
  "language_info": {
   "codemirror_mode": {
    "name": "ipython",
    "version": 3
   },
   "file_extension": ".py",
   "mimetype": "text/x-python",
   "name": "python",
   "nbconvert_exporter": "python",
   "pygments_lexer": "ipython3",
   "version": "3.8.5"
  }
 },
 "nbformat": 4,
 "nbformat_minor": 1
}