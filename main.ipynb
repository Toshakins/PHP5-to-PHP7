{
 "cells": [
  {
   "cell_type": "markdown",
   "metadata": {
    "pycharm": {
     "name": "#%% md\n"
    }
   },
   "source": [
    "Some data was collected prior writing this report. For example,\n",
    "`./data/sites_published` has the output `aws s3 ls` for the `publisherstore-us`\n",
    "bucket that contains archives of the published websites. In addition,\n",
    "`./data/sites_to_copy.csv` contains site ids that needs to be republished. At\n",
    "the moment, SQL query for them looks like that:\n",
    "\n",
    "```sql\n",
    "select distinct sps.id\n",
    "from sites_publishedsite sps\n",
    "\t\t join (select *\n",
    "\t\t\t   from sites_sitereplicant outer_\n",
    "\t\t\t   where not exists(select 1\n",
    "\t\t\t\t\t\t\t\tfrom sites_sitereplicant inner_\n",
    "\t\t\t\t\t\t\t\twhere inner_.id = outer_.id\n",
    "\t\t\t\t\t\t\t\t  and inner_.store_id in %s)) ssr\n",
    "\t\t\t  on ssr.published_site_id = sps.id\n",
    "\t\twhere sps.disabled = 0\n",
    "\t\t\tand sps.state = 0\n",
    "\t\t\tand date_published >= DATE '2018-08-01'\n",
    "```\n",
    "\n",
    "Let's prepare our data. We will select ZIP files from the bucket."
   ]
  },
  {
   "cell_type": "code",
   "execution_count": 1,
   "metadata": {
    "pycharm": {
     "name": "#%%\n"
    }
   },
   "outputs": [],
   "source": [
    "# !pv ./data/sites_published | grep .zip | \\\n",
    "# \tawk '{gsub(\".zip$\", \"\", $4);print $4}' > \\\n",
    "# \t./data/transformed/sites_published_zips.csv"
   ]
  },
  {
   "cell_type": "markdown",
   "metadata": {
    "pycharm": {
     "name": "#%% md\n"
    }
   },
   "source": [
    "Here is how look ids of the sites that we need to copy"
   ]
  },
  {
   "cell_type": "code",
   "execution_count": 2,
   "metadata": {
    "collapsed": true
   },
   "outputs": [
    {
     "data": {
      "text/html": [
       "<div>\n",
       "<style scoped>\n",
       "    .dataframe tbody tr th:only-of-type {\n",
       "        vertical-align: middle;\n",
       "    }\n",
       "\n",
       "    .dataframe tbody tr th {\n",
       "        vertical-align: top;\n",
       "    }\n",
       "\n",
       "    .dataframe thead th {\n",
       "        text-align: right;\n",
       "    }\n",
       "</style>\n",
       "<table border=\"1\" class=\"dataframe\">\n",
       "  <thead>\n",
       "    <tr style=\"text-align: right;\">\n",
       "      <th></th>\n",
       "      <th>site_to_copy_ids</th>\n",
       "    </tr>\n",
       "  </thead>\n",
       "  <tbody>\n",
       "    <tr>\n",
       "      <th>0</th>\n",
       "      <td>0000201ae82e4b1293c860235894200f</td>\n",
       "    </tr>\n",
       "    <tr>\n",
       "      <th>1</th>\n",
       "      <td>00003b1c0f064827bdc7e0397139dc93</td>\n",
       "    </tr>\n",
       "    <tr>\n",
       "      <th>2</th>\n",
       "      <td>000047159c254c06848660d03a72f038</td>\n",
       "    </tr>\n",
       "    <tr>\n",
       "      <th>3</th>\n",
       "      <td>00008a6f271548ff9a6274620c7bd6cc</td>\n",
       "    </tr>\n",
       "    <tr>\n",
       "      <th>4</th>\n",
       "      <td>0000a6c1778a44d1a0687266a94f00a9</td>\n",
       "    </tr>\n",
       "  </tbody>\n",
       "</table>\n",
       "</div>"
      ],
      "text/plain": [
       "                   site_to_copy_ids\n",
       "0  0000201ae82e4b1293c860235894200f\n",
       "1  00003b1c0f064827bdc7e0397139dc93\n",
       "2  000047159c254c06848660d03a72f038\n",
       "3  00008a6f271548ff9a6274620c7bd6cc\n",
       "4  0000a6c1778a44d1a0687266a94f00a9"
      ]
     },
     "execution_count": 2,
     "metadata": {},
     "output_type": "execute_result"
    }
   ],
   "source": [
    "import pandas as pd\n",
    "# import modin.pandas as pd\n",
    "sites_to_copy = pd.read_csv(\n",
    "\t'./data/sites_to_copy.csv', names=['site_to_copy_ids'])\n",
    "sites_to_copy.head()"
   ]
  },
  {
   "cell_type": "markdown",
   "metadata": {
    "pycharm": {
     "name": "#%% md\n"
    }
   },
   "source": [
    "There are plenty of them:"
   ]
  },
  {
   "cell_type": "code",
   "execution_count": 3,
   "metadata": {
    "pycharm": {
     "name": "#%%\n"
    }
   },
   "outputs": [
    {
     "data": {
      "text/plain": [
       "site_to_copy_ids    359165\n",
       "dtype: int64"
      ]
     },
     "execution_count": 3,
     "metadata": {},
     "output_type": "execute_result"
    }
   ],
   "source": [
    "sites_to_copy.count()"
   ]
  },
  {
   "cell_type": "markdown",
   "metadata": {
    "pycharm": {
     "name": "#%% md\n"
    }
   },
   "source": [
    "Here is how look ids of the artifacts in the S3"
   ]
  },
  {
   "cell_type": "code",
   "execution_count": 4,
   "metadata": {
    "pycharm": {
     "name": "#%%\n"
    }
   },
   "outputs": [
    {
     "data": {
      "text/html": [
       "<div>\n",
       "<style scoped>\n",
       "    .dataframe tbody tr th:only-of-type {\n",
       "        vertical-align: middle;\n",
       "    }\n",
       "\n",
       "    .dataframe tbody tr th {\n",
       "        vertical-align: top;\n",
       "    }\n",
       "\n",
       "    .dataframe thead th {\n",
       "        text-align: right;\n",
       "    }\n",
       "</style>\n",
       "<table border=\"1\" class=\"dataframe\">\n",
       "  <thead>\n",
       "    <tr style=\"text-align: right;\">\n",
       "      <th></th>\n",
       "      <th>site_published_zips</th>\n",
       "    </tr>\n",
       "  </thead>\n",
       "  <tbody>\n",
       "    <tr>\n",
       "      <th>0</th>\n",
       "      <td>00001f94c5c54973b5539aca547f48cf</td>\n",
       "    </tr>\n",
       "    <tr>\n",
       "      <th>1</th>\n",
       "      <td>0000201ae82e4b1293c860235894200f</td>\n",
       "    </tr>\n",
       "    <tr>\n",
       "      <th>2</th>\n",
       "      <td>0000237a29ef4155a731cac18e3425a5</td>\n",
       "    </tr>\n",
       "    <tr>\n",
       "      <th>3</th>\n",
       "      <td>0000252074964f219d47ea136ffef019</td>\n",
       "    </tr>\n",
       "    <tr>\n",
       "      <th>4</th>\n",
       "      <td>00002f6e7c274081873af579c80e3a25</td>\n",
       "    </tr>\n",
       "  </tbody>\n",
       "</table>\n",
       "</div>"
      ],
      "text/plain": [
       "                site_published_zips\n",
       "0  00001f94c5c54973b5539aca547f48cf\n",
       "1  0000201ae82e4b1293c860235894200f\n",
       "2  0000237a29ef4155a731cac18e3425a5\n",
       "3  0000252074964f219d47ea136ffef019\n",
       "4  00002f6e7c274081873af579c80e3a25"
      ]
     },
     "execution_count": 4,
     "metadata": {},
     "output_type": "execute_result"
    }
   ],
   "source": [
    "sites_published_zips = pd.read_csv(\n",
    "\t'./data/transformed/sites_published_zips.csv',\n",
    "\tnames=['site_published_zips'])\n",
    "sites_published_zips.head()"
   ]
  },
  {
   "cell_type": "markdown",
   "metadata": {
    "pycharm": {
     "name": "#%% md\n"
    }
   },
   "source": [
    "Is there any site without an archive?"
   ]
  },
  {
   "cell_type": "code",
   "execution_count": 5,
   "metadata": {
    "pycharm": {
     "name": "#%%\n"
    }
   },
   "outputs": [
    {
     "name": "stdout",
     "output_type": "stream",
     "text": [
      "True\n"
     ]
    }
   ],
   "source": [
    "set_sites_published_zips = set(\n",
    "\tsites_published_zips['site_published_zips'].values.tolist())\n",
    "set_sites_to_copy = sites_to_copy[ 'site_to_copy_ids'].values.tolist()\n",
    "diff = set(set_sites_to_copy).difference( set_sites_published_zips)\n",
    "\n",
    "\n",
    "print(bool(diff))"
   ]
  },
  {
   "cell_type": "markdown",
   "metadata": {},
   "source": [
    "Really? Give an example please."
   ]
  },
  {
   "cell_type": "code",
   "execution_count": 6,
   "metadata": {
    "pycharm": {
     "name": "#%%\n"
    }
   },
   "outputs": [
    {
     "data": {
      "text/plain": [
       "['9e16165044c8445ab8d396318a5dae8c',\n",
       " 'a45a4638e59741ec90b6dcab7a2dbf9c',\n",
       " 'a55279f3f416418e981383b392aad650',\n",
       " '9bd7bc07e1884b71b8cc12256faf4e0f',\n",
       " '44fcd85f801b4893a72202c7600f2522',\n",
       " '068c97a3742c49dbbdf1d7a78fff47f2',\n",
       " 'f182f7a9da7d42b0aaac219eda346bf5',\n",
       " '115c578e613a4925ab8de35edc61e4cf',\n",
       " 'e3c631497ad441d0a0ce35e88f6b8fd2',\n",
       " 'c967f95e62d04f70a4b2fa0cf4943cdc']"
      ]
     },
     "execution_count": 6,
     "metadata": {},
     "output_type": "execute_result"
    }
   ],
   "source": [
    "import random\n",
    "random.sample(diff, 10)"
   ]
  },
  {
   "cell_type": "markdown",
   "metadata": {
    "pycharm": {
     "name": "#%% md\n"
    }
   },
   "source": [
    "How many?"
   ]
  },
  {
   "cell_type": "code",
   "execution_count": 7,
   "metadata": {
    "pycharm": {
     "name": "#%%\n"
    }
   },
   "outputs": [
    {
     "name": "stdout",
     "output_type": "stream",
     "text": [
      "Total: 10673\n"
     ]
    }
   ],
   "source": [
    "print('Total: %s' % len(diff))"
   ]
  },
  {
   "cell_type": "markdown",
   "metadata": {
    "pycharm": {
     "name": "#%% md\n"
    }
   },
   "source": [
    "Ok, let's prepare our data, but this time we will include object\n",
    " creation date."
   ]
  },
  {
   "cell_type": "code",
   "execution_count": 8,
   "metadata": {
    "pycharm": {
     "name": "#%%\n"
    }
   },
   "outputs": [],
   "source": [
    "# !pv ./data/sites_published | grep .zip | \\\n",
    "# \tawk '{gsub(\".zip$\", \"\" ,$4); print $4 \",\" $1 \"T\" $2 \"Z\"}' > \\\n",
    "# \t./data/transformed/sites_published_zips_with_dates.csv"
   ]
  },
  {
   "cell_type": "markdown",
   "metadata": {
    "pycharm": {
     "name": "#%% md\n"
    }
   },
   "source": [
    "Archives and their creation dates(a-la CSV)."
   ]
  },
  {
   "cell_type": "code",
   "execution_count": 9,
   "metadata": {
    "pycharm": {
     "name": "#%%\n"
    }
   },
   "outputs": [
    {
     "name": "stdout",
     "output_type": "stream",
     "text": [
      "00001f94c5c54973b5539aca547f48cf,2016-03-09T19:07:12Z\r\n",
      "0000201ae82e4b1293c860235894200f,2020-10-05T06:02:05Z\r\n",
      "0000237a29ef4155a731cac18e3425a5,2017-11-07T05:16:45Z\r\n",
      "0000252074964f219d47ea136ffef019,2016-06-23T07:29:33Z\r\n",
      "00002f6e7c274081873af579c80e3a25,2015-11-05T21:27:35Z\r\n"
     ]
    }
   ],
   "source": [
    "!head -n 5 ./data/transformed/sites_published_zips_with_dates.csv"
   ]
  },
  {
   "cell_type": "markdown",
   "metadata": {
    "pycharm": {
     "name": "#%% md\n"
    }
   },
   "source": [
    "Sites and their publishing dates(CSV)."
   ]
  },
  {
   "cell_type": "code",
   "execution_count": 10,
   "metadata": {
    "pycharm": {
     "name": "#%%\n"
    }
   },
   "outputs": [
    {
     "name": "stdout",
     "output_type": "stream",
     "text": [
      "0000201ae82e4b1293c860235894200f,2020-10-05T06:02:04Z\r\n",
      "00003b1c0f064827bdc7e0397139dc93,2019-05-26T06:45:48Z\r\n",
      "000047159c254c06848660d03a72f038,2020-02-14T17:07:26Z\r\n",
      "00008a6f271548ff9a6274620c7bd6cc,2020-05-14T21:40:34Z\r\n",
      "0000a6c1778a44d1a0687266a94f00a9,2019-01-23T17:21:25Z\r\n"
     ]
    }
   ],
   "source": [
    "!head -n 5 ./data/sites_to_copy_with_dates.csv"
   ]
  },
  {
   "cell_type": "code",
   "execution_count": 11,
   "metadata": {
    "pycharm": {
     "name": "#%%\n"
    }
   },
   "outputs": [],
   "source": [
    "sites_to_copy_with_dates = pd.read_csv(\n",
    "\t'./data/sites_to_copy_with_dates.csv',\n",
    "\tnames=['site_to_copy_ids', 'site_published_date'],\n",
    "\tparse_dates=['site_published_date']\n",
    ").set_index('site_to_copy_ids')"
   ]
  },
  {
   "cell_type": "code",
   "execution_count": 12,
   "metadata": {
    "pycharm": {
     "name": "#%%\n"
    }
   },
   "outputs": [],
   "source": [
    "sites_published_zips_with_dates = pd.read_csv(\n",
    "\t'./data/transformed/sites_published_zips_with_dates.csv',\n",
    "\tnames=['site_published_zips_ids', 's3_object_published_date'],\n",
    "\tparse_dates=['s3_object_published_date']\n",
    ").set_index('site_published_zips_ids')"
   ]
  },
  {
   "cell_type": "markdown",
   "metadata": {
    "pycharm": {
     "name": "#%% md\n"
    }
   },
   "source": [
    "We can join sites and archives on id"
   ]
  },
  {
   "cell_type": "code",
   "execution_count": 13,
   "metadata": {
    "pycharm": {
     "name": "#%%\n"
    }
   },
   "outputs": [
    {
     "data": {
      "text/html": [
       "<div>\n",
       "<style scoped>\n",
       "    .dataframe tbody tr th:only-of-type {\n",
       "        vertical-align: middle;\n",
       "    }\n",
       "\n",
       "    .dataframe tbody tr th {\n",
       "        vertical-align: top;\n",
       "    }\n",
       "\n",
       "    .dataframe thead th {\n",
       "        text-align: right;\n",
       "    }\n",
       "</style>\n",
       "<table border=\"1\" class=\"dataframe\">\n",
       "  <thead>\n",
       "    <tr style=\"text-align: right;\">\n",
       "      <th></th>\n",
       "      <th>site_published_date</th>\n",
       "      <th>s3_object_published_date</th>\n",
       "    </tr>\n",
       "    <tr>\n",
       "      <th>site_to_copy_ids</th>\n",
       "      <th></th>\n",
       "      <th></th>\n",
       "    </tr>\n",
       "  </thead>\n",
       "  <tbody>\n",
       "    <tr>\n",
       "      <th>0000201ae82e4b1293c860235894200f</th>\n",
       "      <td>2020-10-05 06:02:04+00:00</td>\n",
       "      <td>2020-10-05 06:02:05+00:00</td>\n",
       "    </tr>\n",
       "    <tr>\n",
       "      <th>00003b1c0f064827bdc7e0397139dc93</th>\n",
       "      <td>2019-05-26 06:45:48+00:00</td>\n",
       "      <td>2019-05-26 06:45:49+00:00</td>\n",
       "    </tr>\n",
       "    <tr>\n",
       "      <th>000047159c254c06848660d03a72f038</th>\n",
       "      <td>2020-02-14 17:07:26+00:00</td>\n",
       "      <td>2020-02-14 17:07:26+00:00</td>\n",
       "    </tr>\n",
       "    <tr>\n",
       "      <th>00008a6f271548ff9a6274620c7bd6cc</th>\n",
       "      <td>2020-05-14 21:40:34+00:00</td>\n",
       "      <td>2020-05-14 21:40:35+00:00</td>\n",
       "    </tr>\n",
       "    <tr>\n",
       "      <th>0000a6c1778a44d1a0687266a94f00a9</th>\n",
       "      <td>2019-01-23 17:21:25+00:00</td>\n",
       "      <td>2019-01-23 17:21:25+00:00</td>\n",
       "    </tr>\n",
       "  </tbody>\n",
       "</table>\n",
       "</div>"
      ],
      "text/plain": [
       "                                       site_published_date  \\\n",
       "site_to_copy_ids                                             \n",
       "0000201ae82e4b1293c860235894200f 2020-10-05 06:02:04+00:00   \n",
       "00003b1c0f064827bdc7e0397139dc93 2019-05-26 06:45:48+00:00   \n",
       "000047159c254c06848660d03a72f038 2020-02-14 17:07:26+00:00   \n",
       "00008a6f271548ff9a6274620c7bd6cc 2020-05-14 21:40:34+00:00   \n",
       "0000a6c1778a44d1a0687266a94f00a9 2019-01-23 17:21:25+00:00   \n",
       "\n",
       "                                  s3_object_published_date  \n",
       "site_to_copy_ids                                            \n",
       "0000201ae82e4b1293c860235894200f 2020-10-05 06:02:05+00:00  \n",
       "00003b1c0f064827bdc7e0397139dc93 2019-05-26 06:45:49+00:00  \n",
       "000047159c254c06848660d03a72f038 2020-02-14 17:07:26+00:00  \n",
       "00008a6f271548ff9a6274620c7bd6cc 2020-05-14 21:40:35+00:00  \n",
       "0000a6c1778a44d1a0687266a94f00a9 2019-01-23 17:21:25+00:00  "
      ]
     },
     "execution_count": 13,
     "metadata": {},
     "output_type": "execute_result"
    }
   ],
   "source": [
    "dates_joined = sites_to_copy_with_dates.join(\n",
    "\tsites_published_zips_with_dates, lsuffix='l_', rsuffix='r_')\n",
    "dates_joined.head()"
   ]
  },
  {
   "cell_type": "markdown",
   "metadata": {},
   "source": [
    "Let's calculate the timedelta between two publishing dates."
   ]
  },
  {
   "cell_type": "code",
   "execution_count": 14,
   "metadata": {
    "pycharm": {
     "name": "#%%\n"
    }
   },
   "outputs": [],
   "source": [
    "dates_joined['timedelta'] = (dates_joined['s3_object_published_date']\n",
    "\t- dates_joined['site_published_date'])"
   ]
  },
  {
   "cell_type": "code",
   "execution_count": 15,
   "metadata": {
    "pycharm": {
     "name": "#%%\n"
    }
   },
   "outputs": [
    {
     "data": {
      "text/html": [
       "<div>\n",
       "<style scoped>\n",
       "    .dataframe tbody tr th:only-of-type {\n",
       "        vertical-align: middle;\n",
       "    }\n",
       "\n",
       "    .dataframe tbody tr th {\n",
       "        vertical-align: top;\n",
       "    }\n",
       "\n",
       "    .dataframe thead th {\n",
       "        text-align: right;\n",
       "    }\n",
       "</style>\n",
       "<table border=\"1\" class=\"dataframe\">\n",
       "  <thead>\n",
       "    <tr style=\"text-align: right;\">\n",
       "      <th></th>\n",
       "      <th>site_published_date</th>\n",
       "      <th>s3_object_published_date</th>\n",
       "      <th>timedelta</th>\n",
       "    </tr>\n",
       "    <tr>\n",
       "      <th>site_to_copy_ids</th>\n",
       "      <th></th>\n",
       "      <th></th>\n",
       "      <th></th>\n",
       "    </tr>\n",
       "  </thead>\n",
       "  <tbody>\n",
       "    <tr>\n",
       "      <th>8a49866b2966498601298fd5da6f26c9</th>\n",
       "      <td>2020-11-18 13:55:26+00:00</td>\n",
       "      <td>2010-09-04 21:18:15+00:00</td>\n",
       "      <td>-3728 days +07:22:49</td>\n",
       "    </tr>\n",
       "    <tr>\n",
       "      <th>8a49866b2a910c98012a96734c144cbe</th>\n",
       "      <td>2020-11-18 13:55:48+00:00</td>\n",
       "      <td>2010-09-09 17:10:09+00:00</td>\n",
       "      <td>-3723 days +03:14:21</td>\n",
       "    </tr>\n",
       "    <tr>\n",
       "      <th>8a49866a2af939b8012afaf34d3a118c</th>\n",
       "      <td>2020-11-18 13:43:41+00:00</td>\n",
       "      <td>2010-09-10 10:01:53+00:00</td>\n",
       "      <td>-3723 days +20:18:12</td>\n",
       "    </tr>\n",
       "    <tr>\n",
       "      <th>8a49866a2afe125c012b094dfba27d42</th>\n",
       "      <td>2020-11-11 12:41:20+00:00</td>\n",
       "      <td>2010-09-13 05:19:18+00:00</td>\n",
       "      <td>-3713 days +16:37:58</td>\n",
       "    </tr>\n",
       "    <tr>\n",
       "      <th>8a4986cb2b8aa1a7012b9b38f7121aa7</th>\n",
       "      <td>2020-11-18 13:56:03+00:00</td>\n",
       "      <td>2010-10-11 12:17:31+00:00</td>\n",
       "      <td>-3692 days +22:21:28</td>\n",
       "    </tr>\n",
       "    <tr>\n",
       "      <th>...</th>\n",
       "      <td>...</td>\n",
       "      <td>...</td>\n",
       "      <td>...</td>\n",
       "    </tr>\n",
       "    <tr>\n",
       "      <th>ffefac401f764344be62136a24762b2b</th>\n",
       "      <td>2019-03-21 17:56:01+00:00</td>\n",
       "      <td>NaT</td>\n",
       "      <td>NaT</td>\n",
       "    </tr>\n",
       "    <tr>\n",
       "      <th>fff25cfce17b4ef1944e9a5ffa7c158f</th>\n",
       "      <td>2019-03-25 20:49:20+00:00</td>\n",
       "      <td>NaT</td>\n",
       "      <td>NaT</td>\n",
       "    </tr>\n",
       "    <tr>\n",
       "      <th>fff2f61e5b9e4306a7d078ad2f4982b6</th>\n",
       "      <td>2020-11-09 11:15:17+00:00</td>\n",
       "      <td>NaT</td>\n",
       "      <td>NaT</td>\n",
       "    </tr>\n",
       "    <tr>\n",
       "      <th>fffe31541ac74ec9b69a25a11d56e813</th>\n",
       "      <td>2019-03-26 17:01:59+00:00</td>\n",
       "      <td>NaT</td>\n",
       "      <td>NaT</td>\n",
       "    </tr>\n",
       "    <tr>\n",
       "      <th>fffe6d7976fc4d50a737b794682d41c7</th>\n",
       "      <td>2019-03-13 10:45:45+00:00</td>\n",
       "      <td>NaT</td>\n",
       "      <td>NaT</td>\n",
       "    </tr>\n",
       "  </tbody>\n",
       "</table>\n",
       "<p>359167 rows × 3 columns</p>\n",
       "</div>"
      ],
      "text/plain": [
       "                                       site_published_date  \\\n",
       "site_to_copy_ids                                             \n",
       "8a49866b2966498601298fd5da6f26c9 2020-11-18 13:55:26+00:00   \n",
       "8a49866b2a910c98012a96734c144cbe 2020-11-18 13:55:48+00:00   \n",
       "8a49866a2af939b8012afaf34d3a118c 2020-11-18 13:43:41+00:00   \n",
       "8a49866a2afe125c012b094dfba27d42 2020-11-11 12:41:20+00:00   \n",
       "8a4986cb2b8aa1a7012b9b38f7121aa7 2020-11-18 13:56:03+00:00   \n",
       "...                                                    ...   \n",
       "ffefac401f764344be62136a24762b2b 2019-03-21 17:56:01+00:00   \n",
       "fff25cfce17b4ef1944e9a5ffa7c158f 2019-03-25 20:49:20+00:00   \n",
       "fff2f61e5b9e4306a7d078ad2f4982b6 2020-11-09 11:15:17+00:00   \n",
       "fffe31541ac74ec9b69a25a11d56e813 2019-03-26 17:01:59+00:00   \n",
       "fffe6d7976fc4d50a737b794682d41c7 2019-03-13 10:45:45+00:00   \n",
       "\n",
       "                                  s3_object_published_date  \\\n",
       "site_to_copy_ids                                             \n",
       "8a49866b2966498601298fd5da6f26c9 2010-09-04 21:18:15+00:00   \n",
       "8a49866b2a910c98012a96734c144cbe 2010-09-09 17:10:09+00:00   \n",
       "8a49866a2af939b8012afaf34d3a118c 2010-09-10 10:01:53+00:00   \n",
       "8a49866a2afe125c012b094dfba27d42 2010-09-13 05:19:18+00:00   \n",
       "8a4986cb2b8aa1a7012b9b38f7121aa7 2010-10-11 12:17:31+00:00   \n",
       "...                                                    ...   \n",
       "ffefac401f764344be62136a24762b2b                       NaT   \n",
       "fff25cfce17b4ef1944e9a5ffa7c158f                       NaT   \n",
       "fff2f61e5b9e4306a7d078ad2f4982b6                       NaT   \n",
       "fffe31541ac74ec9b69a25a11d56e813                       NaT   \n",
       "fffe6d7976fc4d50a737b794682d41c7                       NaT   \n",
       "\n",
       "                                            timedelta  \n",
       "site_to_copy_ids                                       \n",
       "8a49866b2966498601298fd5da6f26c9 -3728 days +07:22:49  \n",
       "8a49866b2a910c98012a96734c144cbe -3723 days +03:14:21  \n",
       "8a49866a2af939b8012afaf34d3a118c -3723 days +20:18:12  \n",
       "8a49866a2afe125c012b094dfba27d42 -3713 days +16:37:58  \n",
       "8a4986cb2b8aa1a7012b9b38f7121aa7 -3692 days +22:21:28  \n",
       "...                                               ...  \n",
       "ffefac401f764344be62136a24762b2b                  NaT  \n",
       "fff25cfce17b4ef1944e9a5ffa7c158f                  NaT  \n",
       "fff2f61e5b9e4306a7d078ad2f4982b6                  NaT  \n",
       "fffe31541ac74ec9b69a25a11d56e813                  NaT  \n",
       "fffe6d7976fc4d50a737b794682d41c7                  NaT  \n",
       "\n",
       "[359167 rows x 3 columns]"
      ]
     },
     "execution_count": 15,
     "metadata": {},
     "output_type": "execute_result"
    }
   ],
   "source": [
    "dates_joined.sort_values('timedelta')"
   ]
  },
  {
   "cell_type": "code",
   "execution_count": 16,
   "metadata": {
    "pycharm": {
     "name": "#%%\n"
    }
   },
   "outputs": [],
   "source": [
    "no_na = dates_joined.sort_values('timedelta').dropna()\n",
    "short_discrepancy = no_na[(no_na['timedelta'] > pd.Timedelta(days=1))\n",
    "\t  | (no_na['timedelta'] < pd.Timedelta(days=-1))]"
   ]
  },
  {
   "cell_type": "markdown",
   "metadata": {
    "pycharm": {
     "name": "#%% md\n"
    }
   },
   "source": [
    "How many sites have publishing date discrepancy with their S3 object?\n",
    "Also, exclude sites that miss archive completely."
   ]
  },
  {
   "cell_type": "code",
   "execution_count": 17,
   "metadata": {
    "pycharm": {
     "name": "#%%\n"
    }
   },
   "outputs": [
    {
     "data": {
      "text/plain": [
       "site_published_date         7065\n",
       "s3_object_published_date    7065\n",
       "timedelta                   7065\n",
       "dtype: int64"
      ]
     },
     "execution_count": 17,
     "metadata": {},
     "output_type": "execute_result"
    }
   ],
   "source": [
    "short_discrepancy.count()"
   ]
  },
  {
   "cell_type": "code",
   "execution_count": 18,
   "metadata": {
    "pycharm": {
     "name": "#%%\n"
    }
   },
   "outputs": [],
   "source": [
    "import matplotlib.pyplot as plt\n",
    "%matplotlib inline"
   ]
  },
  {
   "cell_type": "code",
   "execution_count": 19,
   "metadata": {
    "pycharm": {
     "name": "#%%\n"
    }
   },
   "outputs": [],
   "source": [
    "discrepancy_dates = short_discrepancy.apply(\n",
    "\tlambda row: row.site_published_date.date(), axis='columns')"
   ]
  },
  {
   "cell_type": "code",
   "execution_count": 20,
   "metadata": {
    "pycharm": {
     "name": "#%%\n"
    }
   },
   "outputs": [
    {
     "data": {
      "text/plain": [
       "2020-11-17    779\n",
       "2020-11-18    697\n",
       "2020-11-16    573\n",
       "2020-11-12    437\n",
       "2020-11-10    434\n",
       "             ... \n",
       "2020-09-23      1\n",
       "2019-06-09      1\n",
       "2020-09-28      1\n",
       "2020-02-10      1\n",
       "2020-03-19      1\n",
       "Length: 74, dtype: int64"
      ]
     },
     "execution_count": 20,
     "metadata": {},
     "output_type": "execute_result"
    }
   ],
   "source": [
    "discrepancy_dates.value_counts()"
   ]
  },
  {
   "cell_type": "markdown",
   "metadata": {
    "pycharm": {
     "name": "#%% md\n"
    }
   },
   "source": [
    "Show please when happened discrepancies between site publish data and S3 object\n",
    " creation timestamp."
   ]
  },
  {
   "cell_type": "code",
   "execution_count": 21,
   "metadata": {
    "pycharm": {
     "name": "#%%\n"
    }
   },
   "outputs": [
    {
     "data": {
      "text/plain": [
       "<AxesSubplot:xlabel='Date', ylabel='Discrepancy Publish Count'>"
      ]
     },
     "execution_count": 21,
     "metadata": {},
     "output_type": "execute_result"
    },
    {
     "data": {
      "image/png": "[encoded data removed]",
      "text/plain": [
       "<Figure size 1440x720 with 1 Axes>"
      ]
     },
     "metadata": {
      "needs_background": "light"
     },
     "output_type": "display_data"
    }
   ],
   "source": [
    "plt.figure(figsize=(20, 10))\n",
    "plt.xlabel('Date', **{'fontsize': 'xx-large'})\n",
    "plt.ylabel('Discrepancy Publish Count', **{'fontsize': 'xx-large'})\n",
    "discrepancy_dates.value_counts().plot()"
   ]
  },
  {
   "cell_type": "markdown",
   "metadata": {},
   "source": [
    "Now let's find more info about the absent artifacts. Show please the count of\n",
    " sites with absent artifacts per site publishing date."
   ]
  },
  {
   "cell_type": "code",
   "execution_count": 22,
   "metadata": {
    "pycharm": {
     "name": "#%%\n"
    }
   },
   "outputs": [],
   "source": [
    "absent_values = dates_joined[\n",
    "\tdates_joined['s3_object_published_date'].isna()\n",
    "\t& (dates_joined['site_published_date'] < pd.Timestamp(\n",
    "\t\t'2020-11-01T00:00Z'))]\n",
    "absent_dates = absent_values.apply(\n",
    "\tlambda row: row.site_published_date.date(), axis='columns'\n",
    ")\n",
    "absent_dates.value_counts()\n",
    "pass"
   ]
  },
  {
   "cell_type": "code",
   "execution_count": 23,
   "metadata": {
    "pycharm": {
     "name": "#%%\n"
    }
   },
   "outputs": [
    {
     "data": {
      "text/plain": [
       "<AxesSubplot:xlabel='Date', ylabel='Count of absent artifacts'>"
      ]
     },
     "execution_count": 23,
     "metadata": {},
     "output_type": "execute_result"
    },
    {
     "data": {
      "image/png": "[encoded data removed]",
      "text/plain": [
       "<Figure size 1440x720 with 1 Axes>"
      ]
     },
     "metadata": {
      "needs_background": "light"
     },
     "output_type": "display_data"
    }
   ],
   "source": [
    "plt.figure(figsize=(20, 10))\n",
    "plt.xlabel('Date', **{'fontsize': 'xx-large'})\n",
    "plt.ylabel('Count of absent artifacts', **{'fontsize': 'xx-large'})\n",
    "absent_dates.value_counts().plot()"
   ]
  },
  {
   "cell_type": "markdown",
   "metadata": {
    "pycharm": {
     "name": "#%% md\n"
    }
   },
   "source": [
    "The same plot, but Y-axis log scale, please?"
   ]
  },
  {
   "cell_type": "code",
   "execution_count": 24,
   "metadata": {
    "pycharm": {
     "name": "#%%\n"
    }
   },
   "outputs": [
    {
     "data": {
      "text/plain": [
       "<AxesSubplot:xlabel='Date', ylabel='Count of absent artifacts, log scale'>"
      ]
     },
     "execution_count": 24,
     "metadata": {},
     "output_type": "execute_result"
    },
    {
     "data": {
      "image/png": "[encoded data removed]",
      "text/plain": [
       "<Figure size 1440x720 with 1 Axes>"
      ]
     },
     "metadata": {
      "needs_background": "light"
     },
     "output_type": "display_data"
    }
   ],
   "source": [
    "plt.figure(figsize=(20, 10))\n",
    "plt.yscale('log')\n",
    "plt.xlabel('Date', **{'fontsize': 'xx-large'})\n",
    "plt.ylabel('Count of absent artifacts, log scale', **{'fontsize': 'xx-large'})\n",
    "absent_dates.value_counts().plot()"
   ]
  },
  {
   "cell_type": "markdown",
   "metadata": {
    "pycharm": {
     "name": "#%% md\n"
    }
   },
   "source": [
    "By the way, how many artifacts are absent before we started the work\n",
    " on this ticket?"
   ]
  },
  {
   "cell_type": "code",
   "execution_count": 25,
   "metadata": {
    "pycharm": {
     "name": "#%%\n"
    }
   },
   "outputs": [
    {
     "data": {
      "text/plain": [
       "site_published_date         10485\n",
       "s3_object_published_date        0\n",
       "timedelta                       0\n",
       "dtype: int64"
      ]
     },
     "execution_count": 25,
     "metadata": {},
     "output_type": "execute_result"
    }
   ],
   "source": [
    "absent_values.count()"
   ]
  },
  {
   "cell_type": "markdown",
   "metadata": {
    "pycharm": {
     "name": "#%% md\n"
    }
   },
   "source": [
    "What if we dig deeper and check discrepancies in publishing for a longer period\n",
    " of time?"
   ]
  },
  {
   "cell_type": "code",
   "execution_count": 26,
   "metadata": {
    "pycharm": {
     "name": "#%%\n"
    }
   },
   "outputs": [],
   "source": [
    "# !pv ./data/all_published_sites_and_their_dates.csv | \\\n",
    "# \tawk '{print $1 \"T\" $2 \"Z\"}' > \\\n",
    "# \t./data/transformed/all_published_sites_and_their_dates.csv"
   ]
  },
  {
   "cell_type": "code",
   "execution_count": 27,
   "metadata": {
    "pycharm": {
     "name": "#%%\n"
    }
   },
   "outputs": [
    {
     "name": "stdout",
     "output_type": "stream",
     "text": [
      "0000201ae82e4b1293c860235894200f,2020-10-05T06:02:04Z\r\n",
      "0000237a29ef4155a731cac18e3425a5,2017-11-07T05:16:42Z\r\n",
      "0000252074964f219d47ea136ffef019,2016-06-23T07:29:33Z\r\n",
      "00003b1c0f064827bdc7e0397139dc93,2019-05-26T06:45:48Z\r\n",
      "000047159c254c06848660d03a72f038,2020-02-14T17:07:26Z\r\n"
     ]
    }
   ],
   "source": [
    "! head -n 5  ./data/transformed/all_published_sites_and_their_dates.csv"
   ]
  },
  {
   "cell_type": "code",
   "execution_count": 28,
   "metadata": {
    "pycharm": {
     "name": "#%%\n"
    }
   },
   "outputs": [],
   "source": [
    "all_sites_with_dates = pd.read_csv(\n",
    "\t'./data/transformed/all_published_sites_and_their_dates.csv',\n",
    "\tnames=['site_id', 'site_published_date'],\n",
    "\tparse_dates=['site_published_date']\n",
    ").set_index('site_id')\n"
   ]
  },
  {
   "cell_type": "code",
   "execution_count": 29,
   "metadata": {
    "pycharm": {
     "name": "#%%\n"
    }
   },
   "outputs": [
    {
     "data": {
      "text/html": [
       "<div>\n",
       "<style scoped>\n",
       "    .dataframe tbody tr th:only-of-type {\n",
       "        vertical-align: middle;\n",
       "    }\n",
       "\n",
       "    .dataframe tbody tr th {\n",
       "        vertical-align: top;\n",
       "    }\n",
       "\n",
       "    .dataframe thead th {\n",
       "        text-align: right;\n",
       "    }\n",
       "</style>\n",
       "<table border=\"1\" class=\"dataframe\">\n",
       "  <thead>\n",
       "    <tr style=\"text-align: right;\">\n",
       "      <th></th>\n",
       "      <th>site_published_date</th>\n",
       "    </tr>\n",
       "    <tr>\n",
       "      <th>site_id</th>\n",
       "      <th></th>\n",
       "    </tr>\n",
       "  </thead>\n",
       "  <tbody>\n",
       "    <tr>\n",
       "      <th>0000201ae82e4b1293c860235894200f</th>\n",
       "      <td>2020-10-05 06:02:04+00:00</td>\n",
       "    </tr>\n",
       "    <tr>\n",
       "      <th>0000237a29ef4155a731cac18e3425a5</th>\n",
       "      <td>2017-11-07 05:16:42+00:00</td>\n",
       "    </tr>\n",
       "    <tr>\n",
       "      <th>0000252074964f219d47ea136ffef019</th>\n",
       "      <td>2016-06-23 07:29:33+00:00</td>\n",
       "    </tr>\n",
       "    <tr>\n",
       "      <th>00003b1c0f064827bdc7e0397139dc93</th>\n",
       "      <td>2019-05-26 06:45:48+00:00</td>\n",
       "    </tr>\n",
       "    <tr>\n",
       "      <th>000047159c254c06848660d03a72f038</th>\n",
       "      <td>2020-02-14 17:07:26+00:00</td>\n",
       "    </tr>\n",
       "  </tbody>\n",
       "</table>\n",
       "</div>"
      ],
      "text/plain": [
       "                                       site_published_date\n",
       "site_id                                                   \n",
       "0000201ae82e4b1293c860235894200f 2020-10-05 06:02:04+00:00\n",
       "0000237a29ef4155a731cac18e3425a5 2017-11-07 05:16:42+00:00\n",
       "0000252074964f219d47ea136ffef019 2016-06-23 07:29:33+00:00\n",
       "00003b1c0f064827bdc7e0397139dc93 2019-05-26 06:45:48+00:00\n",
       "000047159c254c06848660d03a72f038 2020-02-14 17:07:26+00:00"
      ]
     },
     "execution_count": 29,
     "metadata": {},
     "output_type": "execute_result"
    }
   ],
   "source": [
    "all_sites_with_dates.head()"
   ]
  },
  {
   "cell_type": "code",
   "execution_count": 30,
   "metadata": {
    "pycharm": {
     "name": "#%%\n"
    }
   },
   "outputs": [
    {
     "data": {
      "text/html": [
       "<div>\n",
       "<style scoped>\n",
       "    .dataframe tbody tr th:only-of-type {\n",
       "        vertical-align: middle;\n",
       "    }\n",
       "\n",
       "    .dataframe tbody tr th {\n",
       "        vertical-align: top;\n",
       "    }\n",
       "\n",
       "    .dataframe thead th {\n",
       "        text-align: right;\n",
       "    }\n",
       "</style>\n",
       "<table border=\"1\" class=\"dataframe\">\n",
       "  <thead>\n",
       "    <tr style=\"text-align: right;\">\n",
       "      <th></th>\n",
       "      <th>site_published_date</th>\n",
       "      <th>s3_object_published_date</th>\n",
       "    </tr>\n",
       "    <tr>\n",
       "      <th>site_id</th>\n",
       "      <th></th>\n",
       "      <th></th>\n",
       "    </tr>\n",
       "  </thead>\n",
       "  <tbody>\n",
       "    <tr>\n",
       "      <th>0000201ae82e4b1293c860235894200f</th>\n",
       "      <td>2020-10-05 06:02:04+00:00</td>\n",
       "      <td>2020-10-05 06:02:05+00:00</td>\n",
       "    </tr>\n",
       "    <tr>\n",
       "      <th>0000237a29ef4155a731cac18e3425a5</th>\n",
       "      <td>2017-11-07 05:16:42+00:00</td>\n",
       "      <td>2017-11-07 05:16:45+00:00</td>\n",
       "    </tr>\n",
       "    <tr>\n",
       "      <th>0000252074964f219d47ea136ffef019</th>\n",
       "      <td>2016-06-23 07:29:33+00:00</td>\n",
       "      <td>2016-06-23 07:29:33+00:00</td>\n",
       "    </tr>\n",
       "    <tr>\n",
       "      <th>00003b1c0f064827bdc7e0397139dc93</th>\n",
       "      <td>2019-05-26 06:45:48+00:00</td>\n",
       "      <td>2019-05-26 06:45:49+00:00</td>\n",
       "    </tr>\n",
       "    <tr>\n",
       "      <th>000047159c254c06848660d03a72f038</th>\n",
       "      <td>2020-02-14 17:07:26+00:00</td>\n",
       "      <td>2020-02-14 17:07:26+00:00</td>\n",
       "    </tr>\n",
       "  </tbody>\n",
       "</table>\n",
       "</div>"
      ],
      "text/plain": [
       "                                       site_published_date  \\\n",
       "site_id                                                      \n",
       "0000201ae82e4b1293c860235894200f 2020-10-05 06:02:04+00:00   \n",
       "0000237a29ef4155a731cac18e3425a5 2017-11-07 05:16:42+00:00   \n",
       "0000252074964f219d47ea136ffef019 2016-06-23 07:29:33+00:00   \n",
       "00003b1c0f064827bdc7e0397139dc93 2019-05-26 06:45:48+00:00   \n",
       "000047159c254c06848660d03a72f038 2020-02-14 17:07:26+00:00   \n",
       "\n",
       "                                  s3_object_published_date  \n",
       "site_id                                                     \n",
       "0000201ae82e4b1293c860235894200f 2020-10-05 06:02:05+00:00  \n",
       "0000237a29ef4155a731cac18e3425a5 2017-11-07 05:16:45+00:00  \n",
       "0000252074964f219d47ea136ffef019 2016-06-23 07:29:33+00:00  \n",
       "00003b1c0f064827bdc7e0397139dc93 2019-05-26 06:45:49+00:00  \n",
       "000047159c254c06848660d03a72f038 2020-02-14 17:07:26+00:00  "
      ]
     },
     "execution_count": 30,
     "metadata": {},
     "output_type": "execute_result"
    }
   ],
   "source": [
    "all_sites_artifacts_joined = all_sites_with_dates.join(\n",
    "\tsites_published_zips_with_dates)\n",
    "all_sites_artifacts_joined.head()"
   ]
  },
  {
   "cell_type": "code",
   "execution_count": 31,
   "metadata": {
    "pycharm": {
     "name": "#%%\n"
    }
   },
   "outputs": [],
   "source": [
    "all_sites_artifacts_joined['timedelta'] = (\n",
    "\tall_sites_artifacts_joined['s3_object_published_date']\n",
    "\t\t- all_sites_artifacts_joined['site_published_date'])"
   ]
  },
  {
   "cell_type": "code",
   "execution_count": 32,
   "metadata": {
    "pycharm": {
     "name": "#%%\n"
    }
   },
   "outputs": [
    {
     "data": {
      "text/html": [
       "<div>\n",
       "<style scoped>\n",
       "    .dataframe tbody tr th:only-of-type {\n",
       "        vertical-align: middle;\n",
       "    }\n",
       "\n",
       "    .dataframe tbody tr th {\n",
       "        vertical-align: top;\n",
       "    }\n",
       "\n",
       "    .dataframe thead th {\n",
       "        text-align: right;\n",
       "    }\n",
       "</style>\n",
       "<table border=\"1\" class=\"dataframe\">\n",
       "  <thead>\n",
       "    <tr style=\"text-align: right;\">\n",
       "      <th></th>\n",
       "      <th>site_published_date</th>\n",
       "      <th>s3_object_published_date</th>\n",
       "      <th>timedelta</th>\n",
       "    </tr>\n",
       "    <tr>\n",
       "      <th>site_id</th>\n",
       "      <th></th>\n",
       "      <th></th>\n",
       "      <th></th>\n",
       "    </tr>\n",
       "  </thead>\n",
       "  <tbody>\n",
       "    <tr>\n",
       "      <th>8a49866b2966498601298fd5da6f26c9</th>\n",
       "      <td>2020-11-18 13:55:26+00:00</td>\n",
       "      <td>2010-09-04 21:18:15+00:00</td>\n",
       "      <td>-3728 days +07:22:49</td>\n",
       "    </tr>\n",
       "    <tr>\n",
       "      <th>8a49866b2a910c98012a96734c144cbe</th>\n",
       "      <td>2020-11-18 13:55:48+00:00</td>\n",
       "      <td>2010-09-09 17:10:09+00:00</td>\n",
       "      <td>-3723 days +03:14:21</td>\n",
       "    </tr>\n",
       "    <tr>\n",
       "      <th>8a49866a2af939b8012afaf34d3a118c</th>\n",
       "      <td>2020-11-18 13:43:41+00:00</td>\n",
       "      <td>2010-09-10 10:01:53+00:00</td>\n",
       "      <td>-3723 days +20:18:12</td>\n",
       "    </tr>\n",
       "    <tr>\n",
       "      <th>8a49866a2afe125c012b094dfba27d42</th>\n",
       "      <td>2020-11-11 12:41:20+00:00</td>\n",
       "      <td>2010-09-13 05:19:18+00:00</td>\n",
       "      <td>-3713 days +16:37:58</td>\n",
       "    </tr>\n",
       "    <tr>\n",
       "      <th>8a4986cb2b8aa1a7012b9b38f7121aa7</th>\n",
       "      <td>2020-11-18 13:56:03+00:00</td>\n",
       "      <td>2010-10-11 12:17:31+00:00</td>\n",
       "      <td>-3692 days +22:21:28</td>\n",
       "    </tr>\n",
       "    <tr>\n",
       "      <th>...</th>\n",
       "      <td>...</td>\n",
       "      <td>...</td>\n",
       "      <td>...</td>\n",
       "    </tr>\n",
       "    <tr>\n",
       "      <th>ffee42d6549a4a17b99e66e655361b27</th>\n",
       "      <td>2019-02-27 06:58:56+00:00</td>\n",
       "      <td>NaT</td>\n",
       "      <td>NaT</td>\n",
       "    </tr>\n",
       "    <tr>\n",
       "      <th>ffefac401f764344be62136a24762b2b</th>\n",
       "      <td>2019-03-21 17:56:01+00:00</td>\n",
       "      <td>NaT</td>\n",
       "      <td>NaT</td>\n",
       "    </tr>\n",
       "    <tr>\n",
       "      <th>fff25cfce17b4ef1944e9a5ffa7c158f</th>\n",
       "      <td>2019-03-25 20:49:20+00:00</td>\n",
       "      <td>NaT</td>\n",
       "      <td>NaT</td>\n",
       "    </tr>\n",
       "    <tr>\n",
       "      <th>fffe31541ac74ec9b69a25a11d56e813</th>\n",
       "      <td>2019-03-26 17:01:59+00:00</td>\n",
       "      <td>NaT</td>\n",
       "      <td>NaT</td>\n",
       "    </tr>\n",
       "    <tr>\n",
       "      <th>fffe6d7976fc4d50a737b794682d41c7</th>\n",
       "      <td>2019-03-13 10:45:45+00:00</td>\n",
       "      <td>NaT</td>\n",
       "      <td>NaT</td>\n",
       "    </tr>\n",
       "  </tbody>\n",
       "</table>\n",
       "<p>3647893 rows × 3 columns</p>\n",
       "</div>"
      ],
      "text/plain": [
       "                                       site_published_date  \\\n",
       "site_id                                                      \n",
       "8a49866b2966498601298fd5da6f26c9 2020-11-18 13:55:26+00:00   \n",
       "8a49866b2a910c98012a96734c144cbe 2020-11-18 13:55:48+00:00   \n",
       "8a49866a2af939b8012afaf34d3a118c 2020-11-18 13:43:41+00:00   \n",
       "8a49866a2afe125c012b094dfba27d42 2020-11-11 12:41:20+00:00   \n",
       "8a4986cb2b8aa1a7012b9b38f7121aa7 2020-11-18 13:56:03+00:00   \n",
       "...                                                    ...   \n",
       "ffee42d6549a4a17b99e66e655361b27 2019-02-27 06:58:56+00:00   \n",
       "ffefac401f764344be62136a24762b2b 2019-03-21 17:56:01+00:00   \n",
       "fff25cfce17b4ef1944e9a5ffa7c158f 2019-03-25 20:49:20+00:00   \n",
       "fffe31541ac74ec9b69a25a11d56e813 2019-03-26 17:01:59+00:00   \n",
       "fffe6d7976fc4d50a737b794682d41c7 2019-03-13 10:45:45+00:00   \n",
       "\n",
       "                                  s3_object_published_date  \\\n",
       "site_id                                                      \n",
       "8a49866b2966498601298fd5da6f26c9 2010-09-04 21:18:15+00:00   \n",
       "8a49866b2a910c98012a96734c144cbe 2010-09-09 17:10:09+00:00   \n",
       "8a49866a2af939b8012afaf34d3a118c 2010-09-10 10:01:53+00:00   \n",
       "8a49866a2afe125c012b094dfba27d42 2010-09-13 05:19:18+00:00   \n",
       "8a4986cb2b8aa1a7012b9b38f7121aa7 2010-10-11 12:17:31+00:00   \n",
       "...                                                    ...   \n",
       "ffee42d6549a4a17b99e66e655361b27                       NaT   \n",
       "ffefac401f764344be62136a24762b2b                       NaT   \n",
       "fff25cfce17b4ef1944e9a5ffa7c158f                       NaT   \n",
       "fffe31541ac74ec9b69a25a11d56e813                       NaT   \n",
       "fffe6d7976fc4d50a737b794682d41c7                       NaT   \n",
       "\n",
       "                                            timedelta  \n",
       "site_id                                                \n",
       "8a49866b2966498601298fd5da6f26c9 -3728 days +07:22:49  \n",
       "8a49866b2a910c98012a96734c144cbe -3723 days +03:14:21  \n",
       "8a49866a2af939b8012afaf34d3a118c -3723 days +20:18:12  \n",
       "8a49866a2afe125c012b094dfba27d42 -3713 days +16:37:58  \n",
       "8a4986cb2b8aa1a7012b9b38f7121aa7 -3692 days +22:21:28  \n",
       "...                                               ...  \n",
       "ffee42d6549a4a17b99e66e655361b27                  NaT  \n",
       "ffefac401f764344be62136a24762b2b                  NaT  \n",
       "fff25cfce17b4ef1944e9a5ffa7c158f                  NaT  \n",
       "fffe31541ac74ec9b69a25a11d56e813                  NaT  \n",
       "fffe6d7976fc4d50a737b794682d41c7                  NaT  \n",
       "\n",
       "[3647893 rows x 3 columns]"
      ]
     },
     "execution_count": 32,
     "metadata": {},
     "output_type": "execute_result"
    }
   ],
   "source": [
    "all_sites_artifacts_joined.sort_values('timedelta')"
   ]
  },
  {
   "cell_type": "code",
   "execution_count": 33,
   "metadata": {
    "pycharm": {
     "name": "#%%\n"
    }
   },
   "outputs": [],
   "source": [
    "all_no_na = all_sites_artifacts_joined.dropna()\n",
    "all_discrepancies_dates = all_no_na[\n",
    "\t(all_no_na['timedelta'] > pd.Timedelta(days=1))\n",
    "\t  | (all_no_na['timedelta'] < pd.Timedelta(days=-1))]"
   ]
  },
  {
   "cell_type": "code",
   "execution_count": 34,
   "metadata": {
    "pycharm": {
     "name": "#%%\n"
    }
   },
   "outputs": [
    {
     "data": {
      "application/vnd.jupyter.widget-view+json": {
       "model_id": "c1a33e0d993948b5aa069a6079bef0ab",
       "version_major": 2,
       "version_minor": 0
      },
      "text/plain": [
       "HBox(children=(HTML(value='Pandas Apply'), FloatProgress(value=0.0, max=2673348.0), HTML(value='')))"
      ]
     },
     "metadata": {},
     "output_type": "display_data"
    },
    {
     "name": "stdout",
     "output_type": "stream",
     "text": [
      "\n"
     ]
    },
    {
     "data": {
      "text/plain": [
       "site_id\n",
       "00007d414a464399a0981fd0681c5bcd    2015-03-29\n",
       "00007df545da4f52ab49a453dc537250    2015-02-18\n",
       "0000d400fc444267a54cf40bf089eafd    2015-03-28\n",
       "0001ba217be84d49bf19714cc59c19d4    2015-03-26\n",
       "0001ef9b14d14cc68830e90a70de25bb    2015-02-18\n",
       "dtype: object"
      ]
     },
     "execution_count": 34,
     "metadata": {},
     "output_type": "execute_result"
    }
   ],
   "source": [
    "import swifter  # noqa\n",
    "# swifter.register_modin()\n",
    "all_discrepancies_dates = all_discrepancies_dates.swifter.apply(\n",
    "\tlambda row: row.site_published_date.date(), axis='columns'\n",
    ")\n",
    "all_discrepancies_dates.head()"
   ]
  },
  {
   "cell_type": "code",
   "execution_count": 35,
   "metadata": {
    "pycharm": {
     "name": "#%%\n"
    }
   },
   "outputs": [
    {
     "data": {
      "text/plain": [
       "<AxesSubplot:xlabel='Date', ylabel='Discrepancy Publish Count, log scale'>"
      ]
     },
     "execution_count": 35,
     "metadata": {},
     "output_type": "execute_result"
    },
    {
     "data": {
      "image/png": "[encoded data removed]",
      "text/plain": [
       "<Figure size 1440x720 with 1 Axes>"
      ]
     },
     "metadata": {
      "needs_background": "light"
     },
     "output_type": "display_data"
    }
   ],
   "source": [
    "plt.figure(figsize=(20, 10))\n",
    "plt.xlabel('Date', **{'fontsize': 'xx-large'})\n",
    "plt.yscale('log')\n",
    "plt.ylabel('Discrepancy Publish Count, log scale', **{'fontsize': 'xx-large'})\n",
    "all_discrepancies_dates.value_counts().plot()"
   ]
  },
  {
   "cell_type": "markdown",
   "metadata": {
    "pycharm": {
     "name": "#%% md\n"
    }
   },
   "source": [
    "Just found there are some sites without canonical host."
   ]
  },
  {
   "cell_type": "code",
   "execution_count": 36,
   "metadata": {
    "pycharm": {
     "name": "#%%\n"
    }
   },
   "outputs": [],
   "source": [
    "sites_without_canonical_host = pd.read_csv(\n",
    "\t'./data/sites_to_copy_without_canonical_hosts.csv',\n",
    "\tnames=['site_id']\n",
    ")"
   ]
  },
  {
   "cell_type": "code",
   "execution_count": 37,
   "metadata": {
    "pycharm": {
     "name": "#%%\n"
    }
   },
   "outputs": [
    {
     "data": {
      "text/html": [
       "<div>\n",
       "<style scoped>\n",
       "    .dataframe tbody tr th:only-of-type {\n",
       "        vertical-align: middle;\n",
       "    }\n",
       "\n",
       "    .dataframe tbody tr th {\n",
       "        vertical-align: top;\n",
       "    }\n",
       "\n",
       "    .dataframe thead th {\n",
       "        text-align: right;\n",
       "    }\n",
       "</style>\n",
       "<table border=\"1\" class=\"dataframe\">\n",
       "  <thead>\n",
       "    <tr style=\"text-align: right;\">\n",
       "      <th></th>\n",
       "      <th>site_id</th>\n",
       "    </tr>\n",
       "  </thead>\n",
       "  <tbody>\n",
       "    <tr>\n",
       "      <th>0</th>\n",
       "      <td>00189b66cbc74a67883914ad1ffa5f5e</td>\n",
       "    </tr>\n",
       "    <tr>\n",
       "      <th>1</th>\n",
       "      <td>003d4a7fea6c4c9ca08e6d81482319fb</td>\n",
       "    </tr>\n",
       "    <tr>\n",
       "      <th>2</th>\n",
       "      <td>0053dbe6b68f424e9f2ebd0fdc41407a</td>\n",
       "    </tr>\n",
       "    <tr>\n",
       "      <th>3</th>\n",
       "      <td>005c7231d7624b47979230feaa281d05</td>\n",
       "    </tr>\n",
       "    <tr>\n",
       "      <th>4</th>\n",
       "      <td>006756ebd93a435289392b6976bc54d9</td>\n",
       "    </tr>\n",
       "  </tbody>\n",
       "</table>\n",
       "</div>"
      ],
      "text/plain": [
       "                            site_id\n",
       "0  00189b66cbc74a67883914ad1ffa5f5e\n",
       "1  003d4a7fea6c4c9ca08e6d81482319fb\n",
       "2  0053dbe6b68f424e9f2ebd0fdc41407a\n",
       "3  005c7231d7624b47979230feaa281d05\n",
       "4  006756ebd93a435289392b6976bc54d9"
      ]
     },
     "execution_count": 37,
     "metadata": {},
     "output_type": "execute_result"
    }
   ],
   "source": [
    "sites_without_canonical_host.head()"
   ]
  },
  {
   "cell_type": "code",
   "execution_count": 38,
   "metadata": {
    "pycharm": {
     "name": "#%%\n"
    }
   },
   "outputs": [],
   "source": [
    "set_sites_no_host = set(\n",
    "\tsites_without_canonical_host['site_id'].values.tolist())"
   ]
  },
  {
   "cell_type": "markdown",
   "metadata": {
    "pycharm": {
     "name": "#%% md\n"
    }
   },
   "source": [
    "Intersection of sites with no hosts with sites that miss artifacts counts\n",
    " that much items:"
   ]
  },
  {
   "cell_type": "code",
   "execution_count": 39,
   "metadata": {
    "pycharm": {
     "name": "#%%\n"
    }
   },
   "outputs": [
    {
     "data": {
      "text/plain": [
       "2901"
      ]
     },
     "execution_count": 39,
     "metadata": {},
     "output_type": "execute_result"
    }
   ],
   "source": [
    "len(set_sites_no_host.intersection(set_sites_published_zips))"
   ]
  },
  {
   "cell_type": "markdown",
   "metadata": {
    "pycharm": {
     "name": "#%% md\n"
    }
   },
   "source": [
    "Intersection of sites with no hosts with publishing discrepancies count that\n",
    " much items:"
   ]
  },
  {
   "cell_type": "code",
   "execution_count": 49,
   "metadata": {
    "pycharm": {
     "name": "#%%\n"
    }
   },
   "outputs": [
    {
     "data": {
      "text/plain": [
       "['8a4986cc2416d40701242adcb8ec7f83',\n",
       " '8a4986c843d7e1180143f261b42e5fcc',\n",
       " '8a4986ca380bb47e01380c3ba4c60cef',\n",
       " '57a3b5e622d241d5a46b2e9b2a146fec',\n",
       " '94677d9e23d54a7997b6bbb951d8d021',\n",
       " 'a433df2c4d0d40dea2fa214f6248bb89',\n",
       " '8a4986ca302e0b4d01303aae40bb50d2',\n",
       " '8a4986ca2af939cd012afc6c7dfc1f37',\n",
       " 'd5bd5d5dfbbd46fdbde4ef6994b70308',\n",
       " '8a4986c94080f2d0014093212caf3b56']"
      ]
     },
     "execution_count": 49,
     "metadata": {},
     "output_type": "execute_result"
    }
   ],
   "source": [
    "from itertools import islice\n",
    "set_sites_discrepancy_ids = set(short_discrepancy.index.values.tolist())\n",
    "list(islice(set_sites_discrepancy_ids, 10))"
   ]
  },
  {
   "cell_type": "code",
   "execution_count": 50,
   "metadata": {
    "pycharm": {
     "name": "#%%\n"
    }
   },
   "outputs": [
    {
     "data": {
      "text/plain": [
       "89"
      ]
     },
     "execution_count": 50,
     "metadata": {},
     "output_type": "execute_result"
    }
   ],
   "source": [
    "len(set_sites_no_host.intersection(set_sites_discrepancy_ids))"
   ]
  },
  {
   "cell_type": "code",
   "execution_count": 53,
   "metadata": {
    "pycharm": {
     "name": "#%%\n"
    }
   },
   "outputs": [
    {
     "name": "stdout",
     "output_type": "stream",
     "text": [
      "5834000\n",
      "7065\n"
     ]
    },
    {
     "data": {
      "text/plain": [
       "5834000"
      ]
     },
     "execution_count": 53,
     "metadata": {},
     "output_type": "execute_result"
    }
   ],
   "source": [
    "print(len(set_sites_published_zips))\n",
    "print(len(set_sites_discrepancy_ids))\n",
    "excluded_sites = set_sites_published_zips| set_sites_discrepancy_ids\n",
    "len(excluded_sites)"
   ]
  },
  {
   "cell_type": "code",
   "execution_count": 61,
   "metadata": {
    "pycharm": {
     "name": "#%%\n"
    }
   },
   "outputs": [
    {
     "data": {
      "text/plain": [
       "231"
      ]
     },
     "execution_count": 61,
     "metadata": {},
     "output_type": "execute_result"
    }
   ],
   "source": [
    "no_host_unknown = set_sites_no_host.difference(excluded_sites)\n",
    "len(no_host_unknown)\n"
   ]
  }
 ],
 "metadata": {
  "kernelspec": {
   "display_name": "Python 3",
   "language": "python",
   "name": "python3"
  },
  "language_info": {
   "codemirror_mode": {
    "name": "ipython",
    "version": 3
   },
   "file_extension": ".py",
   "mimetype": "text/x-python",
   "name": "python",
   "nbconvert_exporter": "python",
   "pygments_lexer": "ipython3",
   "version": "3.8.5"
  }
 },
 "nbformat": 4,
 "nbformat_minor": 1
}
